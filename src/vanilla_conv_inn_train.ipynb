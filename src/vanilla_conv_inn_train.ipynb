{
 "cells": [
  {
   "cell_type": "code",
   "execution_count": 1,
   "metadata": {},
   "outputs": [
    {
     "name": "stderr",
     "output_type": "stream",
     "text": [
      "/home/bora/miniconda3/envs/vae-inn/lib/python3.11/site-packages/tqdm/auto.py:21: TqdmWarning: IProgress not found. Please update jupyter and ipywidgets. See https://ipywidgets.readthedocs.io/en/stable/user_install.html\n",
      "  from .autonotebook import tqdm as notebook_tqdm\n"
     ]
    },
    {
     "data": {
      "text/plain": [
       "False"
      ]
     },
     "execution_count": 1,
     "metadata": {},
     "output_type": "execute_result"
    }
   ],
   "source": [
    "# %%\n",
    "from numpy.core.fromnumeric import var\n",
    "import os\n",
    "os.environ[\"CUDA_VISIBLE_DEVICES\"] = \"1\"\n",
    "import pytorch_lightning as pl\n",
    "import torch\n",
    "from torch.utils.data import DataLoader, Dataset\n",
    "from pytorch_lightning.loggers import TensorBoardLogger\n",
    "from pytorch_lightning.callbacks import ModelCheckpoint\n",
    "from torchvision import datasets\n",
    "from torchvision.transforms import ToTensor, Compose, Normalize, Lambda, Resize, ConvertImageDtype, Grayscale\n",
    "from pytorch_lightning.callbacks import Callback\n",
    "from pytorch_lightning.trainer import Trainer\n",
    "import matplotlib.pyplot as plt\n",
    "import torchvision\n",
    "\n",
    "torch.cuda.is_available()"
   ]
  },
  {
   "cell_type": "code",
   "execution_count": null,
   "metadata": {},
   "outputs": [],
   "source": [
    "\n",
    "pl.seed_everything(42)\n",
    "\n",
    "# %%\n",
    "#add tensorboard logger\n",
    "logger = TensorBoardLogger(\"tb_logs_vanilla\", name=\"my_model\")\n",
    "DEVICE = torch.device(\"cuda:0\" if torch.cuda.is_available() else \"cpu\")\n",
    "\n",
    "transform = Compose(\n",
    "    [ToTensor()])\n",
    "train_set = datasets.MNIST(root='data', train=True,\n",
    "                              download=True, transform=transform)\n",
    "\n",
    "# %%\n",
    "from model import ConvInnModel\n",
    "\n",
    "model = ConvInnModel()\n",
    "BATCH_SIZE = 32\n",
    "train_loader = DataLoader(train_set, batch_size=BATCH_SIZE, shuffle=True)\n",
    "y, _, _ = model(torch.randn((1,1,28,28)))\n",
    "y.shape\n",
    "\n",
    "# %%\n",
    "if DEVICE == 'cpu':\n",
    "  devices = 0\n",
    "else:\n",
    "  devices = 1\n",
    "\n",
    "class ModelSaveCallback(Callback):\n",
    "    def on_train_start(self, trainer, pl_module):\n",
    "        print(\"Training is starting\")\n",
    "\n",
    "    def on_train_epoch_start(self, trainer: Trainer, pl_module: pl.LightningModule) -> None:\n",
    "        if trainer.current_epoch % 2 == 0:\n",
    "          torch.save(model.state_dict(), \"model_vanilla_mnist.pt\")\n",
    "          BATCH_SIZE = 20\n",
    "          samples = model.inn.inverse(torch.randn((BATCH_SIZE, 1, 28, 28))).detach()\n",
    "          grid_img = torchvision.utils.make_grid(samples, nrow=5)\n",
    "          torchvision.utils.save_image(grid_img, f\"outputs_mnist/epoch_{trainer.current_epoch}.png\")\n",
    "\n",
    "    def on_train_end(self, trainer, pl_module):\n",
    "        print(\"Training is ending\")\n",
    "\n",
    "\n",
    "\n",
    "torch.cuda.is_available()"
   ]
  },
  {
   "cell_type": "code",
   "execution_count": null,
   "metadata": {},
   "outputs": [],
   "source": [
    "# trainer = pl.Trainer(max_epochs=10, devices=devices,logger=logger,callbacks=[checkpoint_callback])  # Set devices=1 for GPU training\n",
    "trainer = pl.Trainer(max_epochs=200, devices=1, logger=logger, callbacks=[ModelSaveCallback()])  # Set devices=1 for GPU training\n",
    "\n",
    "# Start training\n",
    "trainer.fit(model, train_dataloaders=train_loader)\n",
    "\n",
    "# Save the model for later inference.\n",
    "torch.save(model.state_dict(), \"model_vanilla.pt\")"
   ]
  }
 ],
 "metadata": {
  "kernelspec": {
   "display_name": "vae-inn",
   "language": "python",
   "name": "python3"
  },
  "language_info": {
   "codemirror_mode": {
    "name": "ipython",
    "version": 3
   },
   "file_extension": ".py",
   "mimetype": "text/x-python",
   "name": "python",
   "nbconvert_exporter": "python",
   "pygments_lexer": "ipython3",
   "version": "3.11.4"
  },
  "orig_nbformat": 4
 },
 "nbformat": 4,
 "nbformat_minor": 2
}
