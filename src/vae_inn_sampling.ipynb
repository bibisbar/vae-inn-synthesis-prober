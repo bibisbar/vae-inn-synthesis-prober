{
 "cells": [
  {
   "cell_type": "code",
   "execution_count": 3,
   "metadata": {},
   "outputs": [
    {
     "name": "stderr",
     "output_type": "stream",
     "text": [
      "Cannot initialize model with low cpu memory usage because `accelerate` was not found in the environment. Defaulting to `low_cpu_mem_usage=False`. It is strongly recommended to install `accelerate` for faster and less memory-intense model loading. You can do so with: \n",
      "```\n",
      "pip install accelerate\n",
      "```\n",
      ".\n"
     ]
    },
    {
     "data": {
      "text/plain": [
       "torch.Size([1, 3, 32, 32])"
      ]
     },
     "execution_count": 3,
     "metadata": {},
     "output_type": "execute_result"
    }
   ],
   "source": [
    "from diffusers.models import AutoencoderKL\n",
    "from diffusers import StableDiffusionPipeline\n",
    "import torch\n",
    "from vae_inn import VaeInnModel\n",
    "\n",
    "sd_vae = AutoencoderKL.from_pretrained(\"stabilityai/sd-vae-ft-mse\").cuda()\n",
    "sd_vae.eval()\n",
    "\n",
    "img = torch.randn(size=(1,3,32,32)).cuda()\n",
    "latent_output = sd_vae.tiled_encode(x=img)\n",
    "\n",
    "normal_decoded_output = sd_vae.tiled_decode(z=latent_output.latent_dist.sample())\n",
    "normal_decoded_output.sample.shape\n"
   ]
  }
 ],
 "metadata": {
  "kernelspec": {
   "display_name": "vae-inn",
   "language": "python",
   "name": "python3"
  },
  "language_info": {
   "codemirror_mode": {
    "name": "ipython",
    "version": 3
   },
   "file_extension": ".py",
   "mimetype": "text/x-python",
   "name": "python",
   "nbconvert_exporter": "python",
   "pygments_lexer": "ipython3",
   "version": "3.11.4"
  },
  "orig_nbformat": 4
 },
 "nbformat": 4,
 "nbformat_minor": 2
}
