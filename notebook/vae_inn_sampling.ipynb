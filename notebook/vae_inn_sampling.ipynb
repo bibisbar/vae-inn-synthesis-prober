{
 "cells": [
  {
   "cell_type": "code",
   "execution_count": 2,
   "metadata": {},
   "outputs": [
    {
     "name": "stderr",
     "output_type": "stream",
     "text": [
      "Global seed set to 42\n"
     ]
    },
    {
     "name": "stdout",
     "output_type": "stream",
     "text": [
      "True\n"
     ]
    },
    {
     "data": {
      "text/plain": [
       "torch.Size([1, 4, 3, 3])"
      ]
     },
     "execution_count": 2,
     "metadata": {},
     "output_type": "execute_result"
    }
   ],
   "source": [
    "import torch\n",
    "import torchvision\n",
    "from model import VaeInnModel, ConvInnModel\n",
    "import pytorch_lightning as pl\n",
    "\n",
    "BATCH_SIZE = 100 # create BATCH_SIZE images in total\n",
    "\n",
    "model = VaeInnModel()\n",
    "pl.seed_everything(42)\n",
    "print(torch.cuda.is_available())\n",
    "model.eval()\n",
    "model = model.cuda()\n",
    "img = torchvision.io.image.read_image(\"image.jpg\").cuda()\n",
    "img = torch.cat([img, img, img])\n",
    "img = torch.unsqueeze(img, 0) / 255.\n",
    "#lst = [img for i in range(0, BATCH_SIZE)]\n",
    "#img = torch.cat(lst)\n",
    "#img.shape\n",
    "#sample, _, _ = model(img)\n",
    "latent = model.encoder(img)\n",
    "latent.shape\n",
    "#model.encoder(torch.randn(1,3,16,16).cuda()).shape"
   ]
  },
  {
   "cell_type": "code",
   "execution_count": 3,
   "metadata": {},
   "outputs": [],
   "source": [
    "decoded_img = model.encoder.sd_vae.tiled_decode(latent)\n",
    "decoded_img.sample.shape\n",
    "torchvision.utils.save_image(decoded_img.sample, \"test.png\")"
   ]
  }
 ],
 "metadata": {
  "kernelspec": {
   "display_name": "vae-inn",
   "language": "python",
   "name": "python3"
  },
  "language_info": {
   "codemirror_mode": {
    "name": "ipython",
    "version": 3
   },
   "file_extension": ".py",
   "mimetype": "text/x-python",
   "name": "python",
   "nbconvert_exporter": "python",
   "pygments_lexer": "ipython3",
   "version": "3.11.4"
  },
  "orig_nbformat": 4
 },
 "nbformat": 4,
 "nbformat_minor": 2
}
